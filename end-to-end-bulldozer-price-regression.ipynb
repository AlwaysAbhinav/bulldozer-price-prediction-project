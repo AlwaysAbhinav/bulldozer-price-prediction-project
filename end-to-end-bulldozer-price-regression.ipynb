{
 "cells": [
  {
   "attachments": {},
   "cell_type": "markdown",
   "id": "7d37844f",
   "metadata": {},
   "source": [
    "# 🚜 Predicting the sale price of Bulldozer using Machine Learning\n",
    "\n",
    "In this notebook, we are going to go through an example of machine learning project with the goal of predicting the sale price of bulldozers.\n",
    "\n",
    "## 1. Problem definition\n",
    "\n",
    "> How well can we predict the future sale price of a bulldozer given it's characteristics and previous examples of how much similar bulldozers have been sold for?\n",
    "\n",
    "## 2. Data\n",
    "\n",
    "The data is downloaded from the Kaggle bluebook for Bulldozers competition.\n",
    "\n",
    "There are 3 main datasets:\n",
    "\n",
    "* Train.csv is the training set, which contains data through the end of 2011.\n",
    "* Valid.csv is the validation set, which contains data from January 1, 2012 - April 30, 2012 You make predictions on this set throughout the majority of the competition. Your score on this set is used to create the public leaderboard.\n",
    "* Test.csv is the test set, which won't be released until the last week of the competition. It contains data from May 1, 2012 - November 2012. Your score on the test set determines your final rank for the competition.\n",
    "\n",
    "## 3. Evaluation\n",
    "\n",
    "The evaluation metric for this competition is the RMSLE (root mean squared log error) between the actual and predicted auction prices.\n",
    "\n",
    "For more of the evaliation of this project check: https://www.kaggle.com/c/bluebook-for-bulldozers/overview/evaluation\n",
    "\n",
    "**Note:** The goal for most regression evaluation metrics is to minimize the error. For example, our goal for this project will be to build a machine learning model which minimises RMSLE.\n",
    "\n",
    "## 4. Features\n",
    "\n",
    "Kaggle provides a data dictionary detailing all of the features of the dataset, You can view this data dictionary here: https://drive.google.com/file/d/1HHM-FRg8ijuxUCf8CQFciaV7X5t2HRnf/view?usp=sharing"
   ]
  },
  {
   "cell_type": "code",
   "execution_count": 1,
   "id": "cbbcaf3c",
   "metadata": {},
   "outputs": [],
   "source": [
    "import numpy as np\n",
    "import pandas as pd\n",
    "import matplotlib.pyplot as plt\n",
    "import sklearn"
   ]
  },
  {
   "cell_type": "code",
   "execution_count": null,
   "id": "9c1334a2",
   "metadata": {},
   "outputs": [],
   "source": []
  }
 ],
 "metadata": {
  "kernelspec": {
   "display_name": "Python 3",
   "language": "python",
   "name": "python3"
  },
  "language_info": {
   "codemirror_mode": {
    "name": "ipython",
    "version": 3
   },
   "file_extension": ".py",
   "mimetype": "text/x-python",
   "name": "python",
   "nbconvert_exporter": "python",
   "pygments_lexer": "ipython3",
   "version": "3.9.5"
  }
 },
 "nbformat": 4,
 "nbformat_minor": 5
}
